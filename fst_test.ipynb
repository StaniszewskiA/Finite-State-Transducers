{
 "cells": [
  {
   "cell_type": "code",
   "execution_count": 1,
   "metadata": {
    "vscode": {
     "languageId": "powershell"
    }
   },
   "outputs": [
    {
     "name": "stdout",
     "output_type": "stream",
     "text": [
      "Collecting pynini\n",
      "  Using cached pynini-2.1.6.tar.gz (789 kB)\n",
      "  Installing build dependencies: started\n",
      "  Installing build dependencies: finished with status 'done'\n",
      "  Getting requirements to build wheel: started\n",
      "  Getting requirements to build wheel: finished with status 'done'\n",
      "  Preparing metadata (pyproject.toml): started\n",
      "  Preparing metadata (pyproject.toml): finished with status 'done'\n",
      "Building wheels for collected packages: pynini\n",
      "  Building wheel for pynini (pyproject.toml): started\n",
      "  Building wheel for pynini (pyproject.toml): finished with status 'error'\n",
      "Failed to build pynini\n"
     ]
    },
    {
     "name": "stderr",
     "output_type": "stream",
     "text": [
      "  error: subprocess-exited-with-error\n",
      "  \n",
      "  × Building wheel for pynini (pyproject.toml) did not run successfully.\n",
      "  │ exit code: 1\n",
      "  ╰─> [64 lines of output]\n",
      "      running bdist_wheel\n",
      "      running build\n",
      "      running build_py\n",
      "      creating build\n",
      "      creating build\\lib.win-amd64-cpython-311\n",
      "      creating build\\lib.win-amd64-cpython-311\\pynini\n",
      "      copying pynini\\__init__.py -> build\\lib.win-amd64-cpython-311\\pynini\n",
      "      creating build\\lib.win-amd64-cpython-311\\pywrapfst\n",
      "      copying pywrapfst\\__init__.py -> build\\lib.win-amd64-cpython-311\\pywrapfst\n",
      "      creating build\\lib.win-amd64-cpython-311\\pynini\\examples\n",
      "      copying pynini\\examples\\case.py -> build\\lib.win-amd64-cpython-311\\pynini\\examples\n",
      "      copying pynini\\examples\\chatspeak.py -> build\\lib.win-amd64-cpython-311\\pynini\\examples\n",
      "      copying pynini\\examples\\chatspeak_model.py -> build\\lib.win-amd64-cpython-311\\pynini\\examples\n",
      "      copying pynini\\examples\\dates.py -> build\\lib.win-amd64-cpython-311\\pynini\\examples\n",
      "      copying pynini\\examples\\g2p.py -> build\\lib.win-amd64-cpython-311\\pynini\\examples\n",
      "      copying pynini\\examples\\numbers.py -> build\\lib.win-amd64-cpython-311\\pynini\\examples\n",
      "      copying pynini\\examples\\plurals.py -> build\\lib.win-amd64-cpython-311\\pynini\\examples\n",
      "      copying pynini\\examples\\t9.py -> build\\lib.win-amd64-cpython-311\\pynini\\examples\n",
      "      copying pynini\\examples\\weather.py -> build\\lib.win-amd64-cpython-311\\pynini\\examples\n",
      "      copying pynini\\examples\\__init__.py -> build\\lib.win-amd64-cpython-311\\pynini\\examples\n",
      "      creating build\\lib.win-amd64-cpython-311\\pynini\\export\n",
      "      copying pynini\\export\\export.py -> build\\lib.win-amd64-cpython-311\\pynini\\export\n",
      "      copying pynini\\export\\grm.py -> build\\lib.win-amd64-cpython-311\\pynini\\export\n",
      "      copying pynini\\export\\grm_example.py -> build\\lib.win-amd64-cpython-311\\pynini\\export\n",
      "      copying pynini\\export\\multi_grm.py -> build\\lib.win-amd64-cpython-311\\pynini\\export\n",
      "      copying pynini\\export\\multi_grm_example.py -> build\\lib.win-amd64-cpython-311\\pynini\\export\n",
      "      copying pynini\\export\\__init__.py -> build\\lib.win-amd64-cpython-311\\pynini\\export\n",
      "      creating build\\lib.win-amd64-cpython-311\\pynini\\lib\n",
      "      copying pynini\\lib\\byte.py -> build\\lib.win-amd64-cpython-311\\pynini\\lib\n",
      "      copying pynini\\lib\\edit_transducer.py -> build\\lib.win-amd64-cpython-311\\pynini\\lib\n",
      "      copying pynini\\lib\\features.py -> build\\lib.win-amd64-cpython-311\\pynini\\lib\n",
      "      copying pynini\\lib\\paradigms.py -> build\\lib.win-amd64-cpython-311\\pynini\\lib\n",
      "      copying pynini\\lib\\pynutil.py -> build\\lib.win-amd64-cpython-311\\pynini\\lib\n",
      "      copying pynini\\lib\\rewrite.py -> build\\lib.win-amd64-cpython-311\\pynini\\lib\n",
      "      copying pynini\\lib\\rule_cascade.py -> build\\lib.win-amd64-cpython-311\\pynini\\lib\n",
      "      copying pynini\\lib\\stringfile.py -> build\\lib.win-amd64-cpython-311\\pynini\\lib\n",
      "      copying pynini\\lib\\tagger.py -> build\\lib.win-amd64-cpython-311\\pynini\\lib\n",
      "      copying pynini\\lib\\utf8.py -> build\\lib.win-amd64-cpython-311\\pynini\\lib\n",
      "      copying pynini\\lib\\__init__.py -> build\\lib.win-amd64-cpython-311\\pynini\\lib\n",
      "      running egg_info\n",
      "      writing pynini.egg-info\\PKG-INFO\n",
      "      writing dependency_links to pynini.egg-info\\dependency_links.txt\n",
      "      writing top-level names to pynini.egg-info\\top_level.txt\n",
      "      reading manifest file 'pynini.egg-info\\SOURCES.txt'\n",
      "      reading manifest template 'MANIFEST.in'\n",
      "      adding license file 'LICENSE'\n",
      "      adding license file 'AUTHORS'\n",
      "      writing manifest file 'pynini.egg-info\\SOURCES.txt'\n",
      "      copying pynini\\BUILD.bazel -> build\\lib.win-amd64-cpython-311\\pynini\n",
      "      copying pynini\\__init__.pyi -> build\\lib.win-amd64-cpython-311\\pynini\n",
      "      copying pynini\\py.typed -> build\\lib.win-amd64-cpython-311\\pynini\n",
      "      copying pywrapfst\\BUILD.bazel -> build\\lib.win-amd64-cpython-311\\pywrapfst\n",
      "      copying pywrapfst\\__init__.pyi -> build\\lib.win-amd64-cpython-311\\pywrapfst\n",
      "      copying pywrapfst\\py.typed -> build\\lib.win-amd64-cpython-311\\pywrapfst\n",
      "      copying pynini\\examples\\BUILD.bazel -> build\\lib.win-amd64-cpython-311\\pynini\\examples\n",
      "      copying pynini\\examples\\py.typed -> build\\lib.win-amd64-cpython-311\\pynini\\examples\n",
      "      copying pynini\\export\\BUILD.bazel -> build\\lib.win-amd64-cpython-311\\pynini\\export\n",
      "      copying pynini\\export\\grm_py_build_defs.bzl -> build\\lib.win-amd64-cpython-311\\pynini\\export\n",
      "      copying pynini\\export\\py.typed -> build\\lib.win-amd64-cpython-311\\pynini\\export\n",
      "      copying pynini\\lib\\BUILD.bazel -> build\\lib.win-amd64-cpython-311\\pynini\\lib\n",
      "      copying pynini\\lib\\py.typed -> build\\lib.win-amd64-cpython-311\\pynini\\lib\n",
      "      running build_ext\n",
      "      building '_pywrapfst' extension\n",
      "      error: Microsoft Visual C++ 14.0 or greater is required. Get it with \"Microsoft C++ Build Tools\": https://visualstudio.microsoft.com/visual-cpp-build-tools/\n",
      "      [end of output]\n",
      "  \n",
      "  note: This error originates from a subprocess, and is likely not a problem with pip.\n",
      "  ERROR: Failed building wheel for pynini\n",
      "ERROR: Could not build wheels for pynini, which is required to install pyproject.toml-based projects\n",
      "\n",
      "[notice] A new release of pip is available: 23.1.2 -> 24.1.1\n",
      "[notice] To update, run: python.exe -m pip install --upgrade pip\n"
     ]
    }
   ],
   "source": [
    "! pip install pynini"
   ]
  },
  {
   "cell_type": "code",
   "execution_count": null,
   "metadata": {
    "vscode": {
     "languageId": "powershell"
    }
   },
   "outputs": [],
   "source": [
    "import pynini as pn"
   ]
  },
  {
   "cell_type": "code",
   "execution_count": null,
   "metadata": {
    "vscode": {
     "languageId": "powershell"
    }
   },
   "outputs": [],
   "source": [
    "fsa1 = (pn.closure(pn.accep(\"a\")) + pn.accep(\"b\") + pn.accep(\"b\") + pn.closure(pn.accep(\"c\"), 1))\n",
    "fsa1"
   ]
  },
  {
   "cell_type": "code",
   "execution_count": null,
   "metadata": {
    "vscode": {
     "languageId": "powershell"
    }
   },
   "outputs": [],
   "source": [
    "ascii_table = pn.SymbolTable()\n",
    "ascii_table.add_symbol(\"<eps>\", 0)\n",
    "for i in range(12, 128):\n",
    "  ascii_table.add_symbol(chr(i), i)\n",
    "\n",
    "fsa1.set_input_symbols(ascii_table)"
   ]
  },
  {
   "cell_type": "code",
   "execution_count": null,
   "metadata": {
    "vscode": {
     "languageId": "powershell"
    }
   },
   "outputs": [],
   "source": [
    "def draw(fst, symbol_table=ascii_table):\n",
    "  fst.set_input_symbols(symbol_table)\n",
    "  fst.set_output_symbols(symbol_table)\n",
    "  return fst\n",
    "\n",
    "draw(fsa1)"
   ]
  },
  {
   "cell_type": "code",
   "execution_count": 2,
   "metadata": {
    "vscode": {
     "languageId": "powershell"
    }
   },
   "outputs": [
    {
     "ename": "NameError",
     "evalue": "name 'draw' is not defined",
     "output_type": "error",
     "traceback": [
      "\u001b[1;31m---------------------------------------------------------------------------\u001b[0m",
      "\u001b[1;31mNameError\u001b[0m                                 Traceback (most recent call last)",
      "Cell \u001b[1;32mIn[2], line 1\u001b[0m\n\u001b[1;32m----> 1\u001b[0m \u001b[43mdraw\u001b[49m(pn\u001b[38;5;241m.\u001b[39moptimize(pn\u001b[38;5;241m.\u001b[39mclosure(pn\u001b[38;5;241m.\u001b[39maccep(\u001b[38;5;124m\"\u001b[39m\u001b[38;5;124ma\u001b[39m\u001b[38;5;124m\"\u001b[39m)) \u001b[38;5;241m+\u001b[39m pn\u001b[38;5;241m.\u001b[39maccep(\u001b[38;5;124m\"\u001b[39m\u001b[38;5;124mb\u001b[39m\u001b[38;5;124m\"\u001b[39m) \u001b[38;5;241m+\u001b[39m pn\u001b[38;5;241m.\u001b[39maccep(\u001b[38;5;124m\"\u001b[39m\u001b[38;5;124mb\u001b[39m\u001b[38;5;124m\"\u001b[39m) \u001b[38;5;241m+\u001b[39m pn\u001b[38;5;241m.\u001b[39mclosure(pn\u001b[38;5;241m.\u001b[39maccep(\u001b[38;5;124m\"\u001b[39m\u001b[38;5;124mc\u001b[39m\u001b[38;5;124m\"\u001b[39m), \u001b[38;5;241m1\u001b[39m)))\n",
      "\u001b[1;31mNameError\u001b[0m: name 'draw' is not defined"
     ]
    }
   ],
   "source": [
    "draw(pn.optimize(pn.closure(pn.accep(\"a\")) + pn.accep(\"b\") + pn.accep(\"b\") + pn.closure(pn.accep(\"c\"), 1)))"
   ]
  },
  {
   "cell_type": "code",
   "execution_count": null,
   "metadata": {
    "vscode": {
     "languageId": "powershell"
    }
   },
   "outputs": [],
   "source": [
    "import pynini.lib.rewrite as pn_rewrite\n",
    "\n",
    "pn_rewrite.matches(\"abbc\", \"abbc\", fsa1)"
   ]
  },
  {
   "cell_type": "code",
   "execution_count": null,
   "metadata": {
    "vscode": {
     "languageId": "powershell"
    }
   },
   "outputs": [],
   "source": [
    "fsa1 = pn.optimize(pn.closure(pn.accep(\"a\")) + pn.accep(\"bb\") + pn.closure(pn.accep(\"c\"), 1))\n",
    "draw(fsa1)"
   ]
  },
  {
   "cell_type": "code",
   "execution_count": null,
   "metadata": {
    "vscode": {
     "languageId": "powershell"
    }
   },
   "outputs": [],
   "source": [
    "draw(pn.optimize((pn.accep(\"a\").plus)))"
   ]
  },
  {
   "cell_type": "code",
   "execution_count": null,
   "metadata": {
    "vscode": {
     "languageId": "powershell"
    }
   },
   "outputs": [],
   "source": [
    "a_1_to_9 = pn.union(\"one\", \"two\", \"three\", \"four\", \"five\", \"six\", \"seven\", \"eight\", \"nine\")\n",
    "draw(a_1_to_9)"
   ]
  },
  {
   "cell_type": "code",
   "execution_count": null,
   "metadata": {
    "vscode": {
     "languageId": "powershell"
    }
   },
   "outputs": [],
   "source": [
    "a_1_to_9.optimize()"
   ]
  },
  {
   "cell_type": "code",
   "execution_count": null,
   "metadata": {
    "vscode": {
     "languageId": "powershell"
    }
   },
   "outputs": [],
   "source": [
    "draw(\"one\" @ a_1_to_9)\n",
    "draw(\"foo\" @ a_1_to_9)"
   ]
  },
  {
   "cell_type": "code",
   "execution_count": null,
   "metadata": {
    "vscode": {
     "languageId": "powershell"
    }
   },
   "outputs": [],
   "source": [
    "a_1_to_9_dollars = (a_1_to_9 + \" dollars\")\n",
    "draw(\"two dollars\" @ a_1_to_9_dollars)"
   ]
  },
  {
   "cell_type": "code",
   "execution_count": null,
   "metadata": {
    "vscode": {
     "languageId": "powershell"
    }
   },
   "outputs": [],
   "source": [
    "a_2_to_9 = pn.union(\"two\", \"three\", \"four\", \"five\", \"six\", \"seven\", \"eight\", \"nine\")\n",
    "dollars = pn.union(\"one dollar\", a_2_to_9 + \" dollars\")\n",
    "\n",
    "draw(\"one dollar\" @ dollars)\n",
    "draw(\"one dollars\" @ dollars)\n",
    "draw(\"two dollars\" @ dollars)"
   ]
  },
  {
   "cell_type": "code",
   "execution_count": null,
   "metadata": {
    "vscode": {
     "languageId": "powershell"
    }
   },
   "outputs": [],
   "source": [
    "cents = pn.union(\"one cent\", a_2_to_9 + \" cents\")\n",
    "money = pn.union(dollars, cents, dollars + \" \" + cents)\n",
    "draw(\"two cents\" @ money)"
   ]
  },
  {
   "cell_type": "code",
   "execution_count": null,
   "metadata": {
    "vscode": {
     "languageId": "powershell"
    }
   },
   "outputs": [],
   "source": [
    "draw(\"two dollars one cent\" @ money)\n",
    "draw(money)"
   ]
  },
  {
   "cell_type": "code",
   "execution_count": null,
   "metadata": {
    "vscode": {
     "languageId": "powershell"
    }
   },
   "outputs": [],
   "source": [
    "a_2_to_9_words = pn.union(\"[two]\", \"[three]\", \"[four]\", \"[five]\", \"[six]\", \"[seven]\", \"[eight]\", \"[nine]\")\n",
    "dollars_words = pn.union(\"[one][dollar]\", a_2_to_9_words + \"[dollars]\")\n",
    "cents_words = pn.union(\"[one][cent]\", a_2_to_9_words + \"[cents]\")\n",
    "money_words = pn.union(dollars_words, cents_words, dollars_words + cents_words).optimize()\n",
    "money_words.set_input_symbols(pn.generated_symbols())"
   ]
  },
  {
   "cell_type": "code",
   "execution_count": null,
   "metadata": {
    "vscode": {
     "languageId": "powershell"
    }
   },
   "outputs": [],
   "source": [
    "draw(\"[one][dollar]\" @ money_words, pn.generated_symbols())"
   ]
  },
  {
   "cell_type": "code",
   "execution_count": null,
   "metadata": {
    "vscode": {
     "languageId": "powershell"
    }
   },
   "outputs": [],
   "source": [
    "pn.randgen(money_words)"
   ]
  },
  {
   "cell_type": "code",
   "execution_count": null,
   "metadata": {
    "vscode": {
     "languageId": "powershell"
    }
   },
   "outputs": [],
   "source": [
    "pn.randgen(money_words, 3)"
   ]
  },
  {
   "cell_type": "markdown",
   "metadata": {},
   "source": [
    "Construct a FSA that accepts English (or Estonian) numbers from 0 to 99, given as words, e.g. `[twenty] [one]`. Try to be economical, don't just list all possible 100 variants"
   ]
  },
  {
   "cell_type": "code",
   "execution_count": null,
   "metadata": {
    "vscode": {
     "languageId": "powershell"
    }
   },
   "outputs": [],
   "source": [
    "from pynini.lib import pynutil\n",
    "\n",
    "def construct_fsa():\n",
    "  single_digit = pn.union(\"zero\", \"one\", \"two\", \"three\", \"four\", \"five\", \"six\", \"seven\", \"eight\", \"nine\")\n",
    "  teens = pn.union(\"ten\", \"eleven\", \"twelve\", \"thirteen\", \"fourteen\", \"fifteen\", \"sixteen\", \"seventeen\", \"eighteen\", \"nineteen\")\n",
    "  tens = pn.union(\"twenty\", \"thirty\", \"forty\", \"fifty\", \"sixty\", \"seventy\", \"eighty\", \"ninety\")\n",
    "  compound = tens + pynutil.insert(\" \") + single_digit\n",
    "  fsa = single_digit | teens| tens | compound\n",
    "\n",
    "  return fsa"
   ]
  },
  {
   "cell_type": "code",
   "execution_count": null,
   "metadata": {
    "vscode": {
     "languageId": "powershell"
    }
   },
   "outputs": [],
   "source": [
    "fsa = construct_fsa()\n",
    "draw(fsa)"
   ]
  },
  {
   "cell_type": "code",
   "execution_count": null,
   "metadata": {
    "vscode": {
     "languageId": "powershell"
    }
   },
   "outputs": [],
   "source": [
    "reg_noun = pn.union(\"dog\", \"cat\")\n",
    "irreg_noun_sg = pn.union(\"mouse\", \"sheep\")\n",
    "irreg_noun_pl = pn.union(\"mice\", \"sheep\")\n",
    "nouns = pn.union(reg_noun, reg_noun + \"s\", irreg_noun_sg, irreg_noun_pl).optimize()\n",
    "draw(nouns)"
   ]
  },
  {
   "cell_type": "code",
   "execution_count": null,
   "metadata": {
    "vscode": {
     "languageId": "powershell"
    }
   },
   "outputs": [],
   "source": [
    "draw(\"dogs\" @ nouns)\n",
    "draw(\"mouses\" @ nouns)\n",
    "pn.randgen(nouns)\n",
    "pn.randgen(nouns).string()"
   ]
  },
  {
   "cell_type": "markdown",
   "metadata": {},
   "source": [
    "Create a FST that accepts Estonian nouns with at least 3 words and 3 inflections. The words are karu, laud, vahvel, and the inflections are nimetav (karu - laud - vahvel), omastav (karu - laua - vahvli) and kaasaütlev (karuga - lauaga - vahvliga). Try to reuse parts omastav when constructing kaasaütlev, instead of just listing all nine varints of the words. That is, it should be easy to extend this FSA to understand new inflections."
   ]
  },
  {
   "cell_type": "code",
   "execution_count": null,
   "metadata": {
    "vscode": {
     "languageId": "powershell"
    }
   },
   "outputs": [],
   "source": [
    "words = {\n",
    "    \"karu\": (\"karu\", \"karu\", \"karuga\"),\n",
    "    \"laud\": (\"laud\", \"laua\", \"lauaga\"),\n",
    "    \"vahvel\": (\"vahvel\", \"vahvli\", \"vahvliga\")\n",
    "}\n",
    "\n",
    "karu = pn.union(\"karu\", \"karu\", \"karuga\")\n",
    "laud = pn.union(\"laud\", \"laua\", \"lauaga\")\n",
    "vahvel = pn.union(\"vahvel\", \"vahvli\", \"vahvliga\")\n",
    "\n",
    "words_fst = pn.union(karu, laud, vahvel)\n",
    "\n",
    "def create_inflections(word: str, nom: str, gen: str, com: str):\n",
    "    nom_fst = pn.union(nom)\n",
    "    gen_fst = pn.union(gen)\n",
    "    com_fst = pynutil.insert(com) + pn.union(\"ga\")\n",
    "\n",
    "    return nom_fst | gen_fst | com_fst\n",
    "\n",
    "karu_fst = create_inflections(\"karu\", \"karu\", \"karu\", \"karuga\")\n",
    "laud_fst = create_inflections(\"laud\", \"laud\", \"laua\", \"lauaga\")\n",
    "vahvel_fst = create_inflections(\"vahvel\", \"vahvel\", \"vahvli\", \"vahvliga\")\n",
    "\n",
    "combined_fst = karu_fst | laud_fst | vahvel_fst\n",
    "\n",
    "combined_fst.optimize()\n",
    "\n",
    "draw(combined_fst)"
   ]
  },
  {
   "cell_type": "markdown",
   "metadata": {},
   "source": [
    "Transducers"
   ]
  },
  {
   "cell_type": "code",
   "execution_count": null,
   "metadata": {
    "vscode": {
     "languageId": "powershell"
    }
   },
   "outputs": [],
   "source": [
    "draw(pn.cross(\"a\", \"b\"))\n",
    "\n",
    "fst0 = (pn.accep(\"aa\") + pn.cross(\"b\", \"c\") + pn.accep(\"dd\")).optimize()\n",
    "draw(fst0)"
   ]
  },
  {
   "cell_type": "code",
   "execution_count": null,
   "metadata": {
    "vscode": {
     "languageId": "powershell"
    }
   },
   "outputs": [],
   "source": [
    "fst1 = (pn.cross(\"aa\", \"b\").closure() + pn.union(pn.cross(\"b\", \"a\"), pn.accep(\"b\")) + pn.cross(\"b\", \"\").closure()).optimize()\n",
    "draw(fst1)"
   ]
  },
  {
   "cell_type": "code",
   "execution_count": null,
   "metadata": {
    "vscode": {
     "languageId": "powershell"
    }
   },
   "outputs": [],
   "source": [
    "my_fst = (pn.cross(\"aaa\", \"bcb\")) + pn.union(\"a\", \"bb\") + pn.union(pn.cross(\"cc\", \"aba\") + pn.cross(\"fa\", \"af\").closure())\n",
    "my_fst.optimize()\n",
    "\n",
    "draw(my_fst)"
   ]
  },
  {
   "cell_type": "code",
   "execution_count": null,
   "metadata": {
    "vscode": {
     "languageId": "powershell"
    }
   },
   "outputs": [],
   "source": [
    "draw(\"b\" @ fst1)"
   ]
  },
  {
   "cell_type": "code",
   "execution_count": null,
   "metadata": {
    "vscode": {
     "languageId": "powershell"
    }
   },
   "outputs": [],
   "source": [
    "list((\"b\" @ fst1).paths().ostrings())\n",
    "\n",
    "def all_paths(fst):\n",
    "    return list(fst.paths().ostrings())\n",
    "\n",
    "all_paths(\"b\" @ fst1)"
   ]
  },
  {
   "cell_type": "code",
   "execution_count": null,
   "metadata": {
    "vscode": {
     "languageId": "powershell"
    }
   },
   "outputs": [],
   "source": [
    "draw(\"aabbbb\" @ fst1)\n",
    "all_paths(\"aabbbb\" @ fst1)"
   ]
  },
  {
   "cell_type": "code",
   "execution_count": null,
   "metadata": {
    "vscode": {
     "languageId": "powershell"
    }
   },
   "outputs": [],
   "source": [
    "fst1_invert = pn.invert(fst1)\n",
    "fst1_invert"
   ]
  },
  {
   "cell_type": "code",
   "execution_count": null,
   "metadata": {
    "vscode": {
     "languageId": "powershell"
    }
   },
   "outputs": [],
   "source": [
    "draw(\"a\" @ fst1_invert)\n",
    "all_paths(\"a\" @ fst1_invert)"
   ]
  },
  {
   "cell_type": "code",
   "execution_count": null,
   "metadata": {
    "vscode": {
     "languageId": "powershell"
    }
   },
   "outputs": [],
   "source": [
    "list((pn.shortestpath(\"a\" @ fst1_invert, nshortest=10)).paths().ostrings())"
   ]
  },
  {
   "cell_type": "code",
   "execution_count": null,
   "metadata": {
    "vscode": {
     "languageId": "powershell"
    }
   },
   "outputs": [],
   "source": [
    "def top10_paths(fst):\n",
    "    return list(pn.shortestpath(fst, nshortest=10).paths().ostrings())\n",
    "\n",
    "top10_paths(\"a\" @ fst1_invert)"
   ]
  },
  {
   "cell_type": "code",
   "execution_count": null,
   "metadata": {
    "vscode": {
     "languageId": "powershell"
    }
   },
   "outputs": [],
   "source": [
    "stems = pn.union(\"ratsu\", \"kõne\", \"male\")\n",
    "nominative = stems + pn.cross(\"\", \" /nom/\")\n",
    "\n",
    "top10_paths(\"ratsu\" @ nominative)"
   ]
  },
  {
   "cell_type": "code",
   "execution_count": null,
   "metadata": {
    "vscode": {
     "languageId": "powershell"
    }
   },
   "outputs": [],
   "source": [
    "genitive = stems + pn.cross(\"\", \" /gen/\")\n",
    "partitive = stems + pn.cross(\"t\", \" /p/\")\n",
    "illative = stems + pn.cross(\"sse\", \" /ill/\")\n",
    "\n",
    "wordform_to_analysis = pn.union(nominative, genitive, partitive, illative)\n",
    "\n",
    "top10_paths(\"ratsu\" @ wordform_to_analysis)\n",
    "\n",
    "top10_paths(\"kõnesse\" @ wordform_to_analysis)[0]\n",
    "\n",
    "analysis_to_wordform = pn.invert(wordform_to_analysis)\n",
    "top10_paths(\"male /ill/\" @ analysis_to_wordform)"
   ]
  },
  {
   "cell_type": "code",
   "execution_count": null,
   "metadata": {
    "vscode": {
     "languageId": "powershell"
    }
   },
   "outputs": [],
   "source": [
    "rewrite_fst = pn.cdrewrite(pn.cross(\"b\", \"c\"), \"a\", \"d\", pn.union(*\"abcd\").closure()).optimize()\n",
    "draw(rewrite_fst)"
   ]
  },
  {
   "cell_type": "code",
   "execution_count": null,
   "metadata": {
    "vscode": {
     "languageId": "powershell"
    }
   },
   "outputs": [],
   "source": [
    "top10_paths(\"abd\" @ rewrite_fst)\n",
    "top10_paths(\"abbabdc\" @ rewrite_fst)\n",
    "top10_paths(\"b\" @ rewrite_fst)\n",
    "\n",
    "rewrite_fst2 = pn.cdrewrite(pn.cross(\"b\", \"c\"), \"a\", \"\", pn.union(*\"abcd\").closure()).optimize()\n",
    "top10_paths(\"abbbaa\" @ rewrite_fst2)"
   ]
  },
  {
   "cell_type": "code",
   "execution_count": null,
   "metadata": {
    "vscode": {
     "languageId": "powershell"
    }
   },
   "outputs": [],
   "source": [
    "rewrite_fst3 = pn.cdrewrite(pn.cross(\"b\", \"c\"), \"a\" + pn.union(*\"abcd\").closure(), \"\", pn.union(*\"abcd\").closure()).optimize()\n",
    "top10_paths(\"ab\" @ rewrite_fst3)\n",
    "\n",
    "top10_paths(\"cccb\" @ rewrite_fst3)\n",
    "top10_paths(\"acccb\" @ rewrite_fst3)"
   ]
  },
  {
   "cell_type": "code",
   "execution_count": null,
   "metadata": {
    "vscode": {
     "languageId": "powershell"
    }
   },
   "outputs": [],
   "source": [
    "words = [\"number\", \"vahvel\", \"noobel\"]\n",
    "end_analyzer = pn.string_map(words) + pn.union(pn.cross(\"^it\", \" /part/\"), pn.cross(\"^isse\", \" /ill/\"), pn.cross(\"^i\", \" /gen/\"), pn.cross(\"\", \" /nom/\")).optimize()\n",
    "\n",
    "top10_paths(\"number^i\" @ end_analyzer)"
   ]
  },
  {
   "cell_type": "code",
   "execution_count": null,
   "metadata": {
    "vscode": {
     "languageId": "powershell"
    }
   },
   "outputs": [],
   "source": [
    "sigma_star = pn.union(*\"abdefghjiklmnoprstuvõäöüxy^\").closure()\n",
    "stem_change = pn.cdrewrite(pn.union(pn.cross(\"li\", \"el^i\"), pn.cross(\"ri\", \"er^i\")), \"\", pn.union(\"\", \"s\", \"sse\", \"ga\") + \"[EOS]\", sigma_star).optimize()\n",
    "\n",
    "top10_paths(\"numbri\" @ stem_change)"
   ]
  },
  {
   "cell_type": "code",
   "execution_count": null,
   "metadata": {
    "vscode": {
     "languageId": "powershell"
    }
   },
   "outputs": [],
   "source": [
    "top10_paths(\"ribambri\" @ stem_change)"
   ]
  },
  {
   "cell_type": "code",
   "execution_count": null,
   "metadata": {
    "vscode": {
     "languageId": "powershell"
    }
   },
   "outputs": [],
   "source": [
    "wordform_to_analysis2 = stem_change @ end_analyzer\n",
    "\n",
    "top10_paths(\"numbri\" @ wordform_to_analysis2)"
   ]
  },
  {
   "cell_type": "code",
   "execution_count": null,
   "metadata": {
    "vscode": {
     "languageId": "powershell"
    }
   },
   "outputs": [],
   "source": [
    "analysis_to_word2 = pn.invert(wordform_to_analysis2)\n",
    "top10_paths(\"number /gen/\" @ analysis_to_word2)"
   ]
  },
  {
   "cell_type": "code",
   "execution_count": null,
   "metadata": {
    "vscode": {
     "languageId": "powershell"
    }
   },
   "outputs": [],
   "source": [
    "valid_chars = pn.union(*\"abdefghjiklmnoprstuvõäöüxy\").closure().optimize()\n",
    "wordform_to_analysis2 = (valid_chars @ stem_change @ end_analyzer)\n",
    "top10_paths(\"numbri\" @ wordform_to_analysis2)"
   ]
  },
  {
   "cell_type": "code",
   "execution_count": null,
   "metadata": {
    "vscode": {
     "languageId": "powershell"
    }
   },
   "outputs": [],
   "source": [
    "top10_paths(\"number^i\" @ wordform_to_analysis2)"
   ]
  },
  {
   "cell_type": "code",
   "execution_count": null,
   "metadata": {
    "vscode": {
     "languageId": "powershell"
    }
   },
   "outputs": [],
   "source": [
    "analysis_to_word2 = pn.invert(wordform_to_analysis2)\n",
    "top10_paths(\"number /gen/\" @ analysis_to_word2)"
   ]
  },
  {
   "cell_type": "code",
   "execution_count": null,
   "metadata": {
    "vscode": {
     "languageId": "powershell"
    }
   },
   "outputs": [],
   "source": [
    "composite_wordform_to_analysis = pn.union(wordform_to_analysis, wordform_to_analysis2)"
   ]
  },
  {
   "cell_type": "code",
   "execution_count": null,
   "metadata": {
    "vscode": {
     "languageId": "powershell"
    }
   },
   "outputs": [],
   "source": [
    "top10_paths(\"numbri\" @ composite_wordform_to_analysis)\n",
    "top10_paths(\"ratsu\" @ composite_wordform_to_analysis)"
   ]
  },
  {
   "cell_type": "code",
   "execution_count": null,
   "metadata": {
    "vscode": {
     "languageId": "powershell"
    }
   },
   "outputs": [],
   "source": [
    "for w in (top10_paths(pn.randgen(composite_wordform_to_analysis, 5))): print(w)"
   ]
  },
  {
   "cell_type": "code",
   "execution_count": null,
   "metadata": {
    "vscode": {
     "languageId": "powershell"
    }
   },
   "outputs": [],
   "source": [
    "one_character = pn.union(*\"abdefghjiklmnoprstuvõäöüxy\")\n",
    "spacer = (one_character +  pn.cross(\"\", \" \")).closure() + one_character\n",
    "\n",
    "(\"test\" @ spacer).string()"
   ]
  }
 ],
 "metadata": {
  "kernelspec": {
   "display_name": "Python 3",
   "language": "python",
   "name": "python3"
  },
  "language_info": {
   "codemirror_mode": {
    "name": "ipython",
    "version": 3
   },
   "file_extension": ".py",
   "mimetype": "text/x-python",
   "name": "python",
   "nbconvert_exporter": "python",
   "pygments_lexer": "ipython3",
   "version": "3.11.4"
  }
 },
 "nbformat": 4,
 "nbformat_minor": 2
}
