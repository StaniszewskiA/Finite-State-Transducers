{
  "nbformat": 4,
  "nbformat_minor": 0,
  "metadata": {
    "colab": {
      "provenance": []
    },
    "kernelspec": {
      "name": "python3",
      "display_name": "Python 3"
    },
    "language_info": {
      "name": "python"
    }
  },
  "cells": [
    {
      "cell_type": "code",
      "execution_count": 1,
      "metadata": {
        "colab": {
          "base_uri": "https://localhost:8080/"
        },
        "id": "q2M31cnCKJy_",
        "outputId": "4d65d678-98b8-4fd9-9f7d-8a6046e6cbca"
      },
      "outputs": [
        {
          "output_type": "stream",
          "name": "stdout",
          "text": [
            "Collecting pynini\n",
            "  Downloading pynini-2.1.6-cp310-cp310-manylinux_2_28_x86_64.whl (154.5 MB)\n",
            "\u001b[2K     \u001b[90m━━━━━━━━━━━━━━━━━━━━━━━━━━━━━━━━━━━━━━━━\u001b[0m \u001b[32m154.5/154.5 MB\u001b[0m \u001b[31m2.9 MB/s\u001b[0m eta \u001b[36m0:00:00\u001b[0m\n",
            "\u001b[?25hInstalling collected packages: pynini\n",
            "Successfully installed pynini-2.1.6\n"
          ]
        }
      ],
      "source": [
        "!pip install pynini"
      ]
    },
    {
      "cell_type": "markdown",
      "source": [
        "Imports"
      ],
      "metadata": {
        "id": "sLa1kMijKlrS"
      }
    },
    {
      "cell_type": "code",
      "source": [
        "import pynini as pn\n",
        "\n",
        "from pynini import Fst\n",
        "from pynini.lib import rewrite"
      ],
      "metadata": {
        "id": "Gwm2fcUbKk3w"
      },
      "execution_count": 2,
      "outputs": []
    },
    {
      "cell_type": "markdown",
      "source": [
        "Data"
      ],
      "metadata": {
        "id": "iIFOOIHCJ4LE"
      }
    },
    {
      "cell_type": "code",
      "source": [
        "NumeralsDict = dict[str, str]\n",
        "\n",
        "hours_dict: NumeralsDict = {\n",
        "    \"Pierwsza\": \"01\",\n",
        "    \"Druga\": \"02\",\n",
        "    \"Trzecia\": \"03\",\n",
        "    \"Czwarta\": \"04\",\n",
        "    \"Piąta\": \"05\",\n",
        "    \"Szósta\": \"06\",\n",
        "    \"Siódma\": \"07\",\n",
        "    \"Ósma\": \"08\",\n",
        "    \"Dziewiąta\": \"09\",\n",
        "    \"Dziesiąta\": \"10\",\n",
        "    \"Jedenasta\": \"11\",\n",
        "    \"Dwunasta\": \"12\",\n",
        "    \"Trzynasta\": \"13\",\n",
        "    \"Czternasta\": \"14\",\n",
        "    \"Piętnasta\": \"15\",\n",
        "    \"Szesnasta\": \"16\",\n",
        "    \"Siedemnasta\": \"17\",\n",
        "    \"Osiemnasta\": \"18\",\n",
        "    \"Dziewiętnasta\": \"19\",\n",
        "    \"Dwudziesta\": \"20\",\n",
        "    \"Dwudziesta pierwsza\": \"21\",\n",
        "    \"Dwudziesta druga\": \"22\",\n",
        "    \"Dwudziesta trzecia\": \"23\",\n",
        "    \"Dwudziesta czwarta\": \"24\"\n",
        "}\n",
        "\n",
        "minutes_dict = {\n",
        "    \"jeden\": \"01\",\n",
        "    \"dwa\": \"02\",\n",
        "    \"trzy\": \"03\",\n",
        "    \"cztery\": \"04\",\n",
        "    \"pięć\": \"05\",\n",
        "    \"sześć\": \"06\",\n",
        "    \"siedem\": \"07\",\n",
        "    \"osiem\": \"08\",\n",
        "    \"dziewięć\": \"09\",\n",
        "    \"dziesięć\": \"10\",\n",
        "    \"jedenaście\": \"11\",\n",
        "    \"dwanaście\": \"12\",\n",
        "    \"trzynaście\": \"13\",\n",
        "    \"czternaście\": \"14\",\n",
        "    \"piętnaście\": \"15\",\n",
        "    \"szesnaście\": \"16\",\n",
        "    \"siedemnaście\": \"17\",\n",
        "    \"osiemnaście\": \"18\",\n",
        "    \"dziewiętnaście\": \"19\",\n",
        "    \"dwadzieścia\": \"20\",\n",
        "    \"dwadzieścia jeden\": \"21\",\n",
        "    \"dwadzieścia dwa\": \"22\",\n",
        "    \"dwadzieścia trzy\": \"23\",\n",
        "    \"dwadzieścia cztery\": \"24\",\n",
        "    \"dwadzieścia pięć\": \"25\",\n",
        "    \"dwadzieścia sześć\": \"26\",\n",
        "    \"dwadzieścia siedem\": \"27\",\n",
        "    \"dwadzieścia osiem\": \"28\",\n",
        "    \"dwadzieścia dziewięć\": \"29\",\n",
        "    \"trzydzieści\": \"30\",\n",
        "    \"trzydzieści jeden\": \"31\",\n",
        "    \"trzydzieści dwa\": \"32\",\n",
        "    \"trzydzieści trzy\": \"33\",\n",
        "    \"trzydzieści cztery\": \"34\",\n",
        "    \"trzydzieści pięć\": \"35\",\n",
        "    \"trzydzieści sześć\": \"36\",\n",
        "    \"trzydzieści siedem\": \"37\",\n",
        "    \"trzydzieści osiem\": \"38\",\n",
        "    \"trzydzieści dziewięć\": \"39\",\n",
        "    \"czterdzieści\": \"40\",\n",
        "    \"czterdzieści jeden\": \"41\",\n",
        "    \"czterdzieści dwa\": \"42\",\n",
        "    \"czterdzieści trzy\": \"43\",\n",
        "    \"czterdzieści cztery\": \"44\",\n",
        "    \"czterdzieści pięć\": \"45\",\n",
        "    \"czterdzieści sześć\": \"46\",\n",
        "    \"czterdzieści siedem\": \"47\",\n",
        "    \"czterdzieści osiem\": \"48\",\n",
        "    \"czterdzieści dziewięć\": \"49\",\n",
        "    \"pięćdziesiąt\": \"50\",\n",
        "    \"pięćdziesiąt jeden\": \"51\",\n",
        "    \"pięćdziesiąt dwa\": \"52\",\n",
        "    \"pięćdziesiąt trzy\": \"53\",\n",
        "    \"pięćdziesiąt cztery\": \"54\",\n",
        "    \"pięćdziesiąt pięć\": \"55\",\n",
        "    \"pięćdziesiąt sześć\": \"56\",\n",
        "    \"pięćdziesiąt siedem\": \"57\",\n",
        "    \"pięćdziesiąt osiem\": \"58\",\n",
        "    \"pięćdziesiąt dziewięć\": \"59\"\n",
        "}\n"
      ],
      "metadata": {
        "id": "CKZjCNegJ5hH"
      },
      "execution_count": 17,
      "outputs": []
    },
    {
      "cell_type": "code",
      "source": [
        "def create_time_transducer(hours_dict: NumeralsDict,\n",
        "                            minutes_dict: NumeralsDict) -> Fst:\n",
        "\n",
        "  hours_transducer: Fst = pn.string_map(hours_dict.items())\n",
        "  minutes_transducer: Fst = pn.string_map(minutes_dict.items())\n",
        "  colon = pn.accep(\" \")\n",
        "\n",
        "  time_transducer: Fst = hours_transducer + colon + minutes_transducer\n",
        "\n",
        "  return time_transducer"
      ],
      "metadata": {
        "id": "QaHT9qdshEbk"
      },
      "execution_count": 18,
      "outputs": []
    },
    {
      "cell_type": "code",
      "source": [
        "transducer = create_time_transducer(hours_dict=hours_dict,\n",
        "                                    minutes_dict=minutes_dict)"
      ],
      "metadata": {
        "id": "0GIuJGIQhs9q"
      },
      "execution_count": 19,
      "outputs": []
    },
    {
      "cell_type": "code",
      "source": [
        "from typing import Union\n",
        "\n",
        "def transduce_numeral(numeral: str, transducer: Fst) -> Union[str, None]:\n",
        "  try:\n",
        "    result: str = pn.shortestpath(pn.compose(numeral, transducer)).string()\n",
        "    formatted_result: str = result.replace(\" \", \":\")\n",
        "    return formatted_result\n",
        "  except rewrite.Error:\n",
        "    return \"Invalid numeral\""
      ],
      "metadata": {
        "id": "sv1FWLGWo_2E"
      },
      "execution_count": 20,
      "outputs": []
    },
    {
      "cell_type": "code",
      "source": [
        "print(transduce_numeral(\"Jedenasta dziesięć\", transducer))"
      ],
      "metadata": {
        "colab": {
          "base_uri": "https://localhost:8080/"
        },
        "id": "V__Hr71qpIhz",
        "outputId": "44c0641b-2afc-4c94-b205-e1c329020e11"
      },
      "execution_count": 22,
      "outputs": [
        {
          "output_type": "stream",
          "name": "stdout",
          "text": [
            "11:10\n"
          ]
        }
      ]
    }
  ]
}