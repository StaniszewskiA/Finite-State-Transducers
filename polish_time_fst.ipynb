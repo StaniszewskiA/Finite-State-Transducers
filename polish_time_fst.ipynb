{
  "nbformat": 4,
  "nbformat_minor": 0,
  "metadata": {
    "colab": {
      "provenance": []
    },
    "kernelspec": {
      "name": "python3",
      "display_name": "Python 3"
    },
    "language_info": {
      "name": "python"
    }
  },
  "cells": [
    {
      "cell_type": "code",
      "execution_count": 3,
      "metadata": {
        "colab": {
          "base_uri": "https://localhost:8080/"
        },
        "id": "q2M31cnCKJy_",
        "outputId": "a88225c8-9871-4e30-e32e-39d9ec673d8c"
      },
      "outputs": [
        {
          "output_type": "stream",
          "name": "stdout",
          "text": [
            "Collecting pynini\n",
            "  Downloading pynini-2.1.6-cp310-cp310-manylinux_2_28_x86_64.whl (154.5 MB)\n",
            "\u001b[2K     \u001b[90m━━━━━━━━━━━━━━━━━━━━━━━━━━━━━━━━━━━━━━━━\u001b[0m \u001b[32m154.5/154.5 MB\u001b[0m \u001b[31m1.2 MB/s\u001b[0m eta \u001b[36m0:00:00\u001b[0m\n",
            "\u001b[?25hInstalling collected packages: pynini\n",
            "Successfully installed pynini-2.1.6\n"
          ]
        }
      ],
      "source": [
        "!pip install pynini"
      ]
    },
    {
      "cell_type": "markdown",
      "source": [
        "Imports"
      ],
      "metadata": {
        "id": "sLa1kMijKlrS"
      }
    },
    {
      "cell_type": "code",
      "source": [
        "import pynini as pn\n",
        "\n",
        "from pynini import Fst\n",
        "from pynini.lib import rewrite"
      ],
      "metadata": {
        "id": "Gwm2fcUbKk3w"
      },
      "execution_count": 4,
      "outputs": []
    },
    {
      "cell_type": "markdown",
      "source": [
        "Data"
      ],
      "metadata": {
        "id": "iIFOOIHCJ4LE"
      }
    },
    {
      "cell_type": "code",
      "source": [
        "NumeralsDict = dict[str, str]\n",
        "\n",
        "numeral_to_hours = {\n",
        "    \"01\": \"Pierwsza\",\n",
        "    \"02\": \"Druga\",\n",
        "    \"03\": \"Trzecia\",\n",
        "    \"04\": \"Czwarta\",\n",
        "    \"05\": \"Piąta\",\n",
        "    \"06\": \"Szósta\",\n",
        "    \"07\": \"Siódma\",\n",
        "    \"08\": \"Ósma\",\n",
        "    \"09\": \"Dziewiąta\",\n",
        "    \"10\": \"Dziesiąta\",\n",
        "    \"11\": \"Jedenasta\",\n",
        "    \"12\": \"Dwunasta\",\n",
        "    \"13\": \"Trzynasta\",\n",
        "    \"14\": \"Czternasta\",\n",
        "    \"15\": \"Piętnasta\",\n",
        "    \"16\": \"Szesnasta\",\n",
        "    \"17\": \"Siedemnasta\",\n",
        "    \"18\": \"Osiemnasta\",\n",
        "    \"19\": \"Dziewiętnasta\",\n",
        "    \"20\": \"Dwudziesta\",\n",
        "    \"21\": \"Dwudziesta pierwsza\",\n",
        "    \"22\": \"Dwudziesta druga\",\n",
        "    \"23\": \"Dwudziestwa trzecia\",\n",
        "    \"24\": \"Dwudziesta czwarta\"\n",
        "}\n",
        "\n",
        "numeral_to_minutes = {\n",
        "    \"01\": \"Jeden\",\n",
        "    \"02\": \"Dwa\",\n",
        "    \"03\": \"Trzy\",\n",
        "    \"04\": \"Cztery\",\n",
        "    \"05\": \"Pięć\",\n",
        "    \"06\": \"Sześć\",\n",
        "    \"07\": \"Siedem\",\n",
        "    \"08\": \"Osiem\",\n",
        "    \"09\": \"Dziewięć\",\n",
        "    \"10\": \"Dziesięć\",\n",
        "    \"11\": \"Jedenaście\",\n",
        "    \"12\": \"Dwanaście\",\n",
        "    \"13\": \"Trzynaście\",\n",
        "    \"14\": \"Czternaście\",\n",
        "    \"15\": \"Piętnaście\",\n",
        "    \"16\": \"Szesnaście\",\n",
        "    \"17\": \"Siedemnaście\",\n",
        "    \"18\": \"Osiemnaście\",\n",
        "    \"19\": \"Dziewiętnaście\",\n",
        "    \"20\": \"Dwadzieścia\",\n",
        "    \"21\": \"Dwadzieścia jeden\",\n",
        "    \"22\": \"Dwadzieścia dwa\",\n",
        "    \"23\": \"Dwadzieścia trzy\",\n",
        "    \"24\": \"Dwadzieścia cztery\",\n",
        "    \"25\": \"Dwadzieścia pięć\",\n",
        "    \"26\": \"Dwadzieścia sześć\",\n",
        "    \"27\": \"Dwadzieścia siedem\",\n",
        "    \"28\": \"Dwadzieścia osiem\",\n",
        "    \"29\": \"Dwadzieścia dziewięć\",\n",
        "    \"30\": \"Trzydzieści\",\n",
        "    \"31\": \"Trzydzieści jeden\",\n",
        "    \"32\": \"Trzydzieści dwa\",\n",
        "    \"33\": \"Trzydzieści trzy\",\n",
        "    \"34\": \"Trzydzieści cztery\",\n",
        "    \"35\": \"Trzydzieści pięć\",\n",
        "    \"36\": \"Trzydzieści sześć\",\n",
        "    \"37\": \"Trzydzieści siedem\",\n",
        "    \"38\": \"Trzydzieści osiem\",\n",
        "    \"39\": \"Trzydzieści dziewięć\",\n",
        "    \"40\": \"Czterdzieści\",\n",
        "    \"41\": \"Czterdzieści jeden\",\n",
        "    \"42\": \"Czterdzieści dwa\",\n",
        "    \"43\": \"Czterdzieści trzy\",\n",
        "    \"44\": \"Czterdzieści cztery\",\n",
        "    \"45\": \"Czterdzieści pięć\",\n",
        "    \"46\": \"Czterdzieści sześć\",\n",
        "    \"47\": \"Czterdzieści siedem\",\n",
        "    \"48\": \"Czterdzieści osiem\",\n",
        "    \"49\": \"Czterdzieści dziewięć\",\n",
        "    \"50\": \"Pięćdziesiąt\",\n",
        "    \"51\": \"Pięćdziesiąt jeden\",\n",
        "    \"52\": \"Pięćdziesiąt dwa\",\n",
        "    \"53\": \"Pięćdziesiąt trzy\",\n",
        "    \"54\": \"Pięćdziesiąt cztery\",\n",
        "    \"55\": \"Pięćdziesiąt pięć\",\n",
        "    \"56\": \"Pięćdziesiąt sześć\",\n",
        "    \"57\": \"Pięćdziesiąt siedem\",\n",
        "    \"58\": \"Pięćdziesiąt osiem\",\n",
        "    \"59\": \"Pięćdziesiąt dziewięć\"\n",
        "}\n"
      ],
      "metadata": {
        "id": "CKZjCNegJ5hH"
      },
      "execution_count": 27,
      "outputs": []
    },
    {
      "cell_type": "code",
      "source": [
        "def create_time_transducer(hours_dict: NumeralsDict,\n",
        "                            minutes_dict: NumeralsDict) -> Fst:\n",
        "\n",
        "  hours_transducer: Fst = pn.string_map(hours_dict.items())\n",
        "  minutes_transducer: Fst = pn.string_map(minutes_dict.items())\n",
        "  colon = pn.accep(\":\")\n",
        "\n",
        "  time_transducer: Fst = hours_transducer + colon + minutes_transducer\n",
        "\n",
        "  return time_transducer"
      ],
      "metadata": {
        "id": "QaHT9qdshEbk"
      },
      "execution_count": 28,
      "outputs": []
    },
    {
      "cell_type": "code",
      "source": [
        "transducer = create_time_transducer(hours_dict=numeral_to_hours,\n",
        "                                    minutes_dict=numeral_to_minutes)"
      ],
      "metadata": {
        "id": "0GIuJGIQhs9q"
      },
      "execution_count": 29,
      "outputs": []
    },
    {
      "cell_type": "code",
      "source": [
        "from typing import Union\n",
        "\n",
        "def transduce_numeral(numeral: str, transducer: Fst) -> Union[str, None]:\n",
        "  try:\n",
        "    result: str = rewrite.one_top_rewrite(numeral, transducer)\n",
        "    return result\n",
        "  except rewrite.Error:\n",
        "    return \"Invalid numeral\""
      ],
      "metadata": {
        "id": "sv1FWLGWo_2E"
      },
      "execution_count": 30,
      "outputs": []
    },
    {
      "cell_type": "code",
      "source": [
        "print(transduce_numeral(\"Jedenasta:Dziesięć\", transducer))"
      ],
      "metadata": {
        "colab": {
          "base_uri": "https://localhost:8080/"
        },
        "id": "V__Hr71qpIhz",
        "outputId": "7d6c95a2-64d9-49b7-c478-09d419f2d1bc"
      },
      "execution_count": 31,
      "outputs": [
        {
          "output_type": "stream",
          "name": "stdout",
          "text": [
            "Invalid numeral\n"
          ]
        }
      ]
    }
  ]
}