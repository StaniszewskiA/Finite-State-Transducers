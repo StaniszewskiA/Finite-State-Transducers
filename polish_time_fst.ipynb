{
  "nbformat": 4,
  "nbformat_minor": 0,
  "metadata": {
    "colab": {
      "provenance": []
    },
    "kernelspec": {
      "name": "python3",
      "display_name": "Python 3"
    },
    "language_info": {
      "name": "python"
    }
  },
  "cells": [
    {
      "cell_type": "code",
      "execution_count": 1,
      "metadata": {
        "colab": {
          "base_uri": "https://localhost:8080/"
        },
        "id": "q2M31cnCKJy_",
        "outputId": "711d7e8e-15a3-4833-f7d9-49ebd5e8d955"
      },
      "outputs": [
        {
          "output_type": "stream",
          "name": "stdout",
          "text": [
            "Collecting pynini\n",
            "  Downloading pynini-2.1.6-cp310-cp310-manylinux_2_28_x86_64.whl (154.5 MB)\n",
            "\u001b[2K     \u001b[90m━━━━━━━━━━━━━━━━━━━━━━━━━━━━━━━━━━━━━━━━\u001b[0m \u001b[32m154.5/154.5 MB\u001b[0m \u001b[31m6.7 MB/s\u001b[0m eta \u001b[36m0:00:00\u001b[0m\n",
            "\u001b[?25hInstalling collected packages: pynini\n",
            "Successfully installed pynini-2.1.6\n"
          ]
        }
      ],
      "source": [
        "!pip install pynini"
      ]
    },
    {
      "cell_type": "markdown",
      "source": [
        "Imports"
      ],
      "metadata": {
        "id": "sLa1kMijKlrS"
      }
    },
    {
      "cell_type": "code",
      "source": [
        "import pynini as pn\n",
        "\n",
        "from pynini import Fst\n",
        "from pynini.lib import rewrite"
      ],
      "metadata": {
        "id": "Gwm2fcUbKk3w"
      },
      "execution_count": 7,
      "outputs": []
    },
    {
      "cell_type": "code",
      "source": [
        "NumeralsDict = dict[str, str]\n",
        "\n",
        "def create_hours_transducer():\n",
        "  numeral_to_hour: NumeralsDict = {\n",
        "      \"Pierwsza\": \"01\",\n",
        "      \"Druga\": \"02\",\n",
        "      \"Trzecia\": \"03\",\n",
        "      \"Czwarta\": \"04\",\n",
        "      \"Piąta\": \"05\",\n",
        "      \"Szósta\": \"06\",\n",
        "      \"Siódma\": \"07\",\n",
        "      \"Ósma\": \"08\",\n",
        "      \"Dziewiąta\": \"09\",\n",
        "      \"Dziesiąta\": \"10\",\n",
        "      \"Jedenasta\": \"11\",\n",
        "      \"Dwunasta\": \"12\",\n",
        "      \"Trzynasta\": \"13\",\n",
        "      \"Czternasta\": \"14\",\n",
        "      \"Piętnasta\": \"15\",\n",
        "      \"Szesnasta\": \"16\",\n",
        "      \"Siedemnasta\": \"17\",\n",
        "      \"Osiemnasta\": \"18\",\n",
        "      \"Dziewiętnasta\": \"19\",\n",
        "      \"Dwudziesta\": \"20\",\n",
        "      \"Dwudziesta pierwsza\": \"21\",\n",
        "      \"Dwudziesta druga\": \"22\",\n",
        "      \"Dwudziestwa trzecia\": \"23\",\n",
        "      \"Dwudziesta czwarta\": \"24\"\n",
        "  }\n",
        "\n",
        "  hours_transducer: Fst = pn.string_map(numeral_to_hour.items())\n",
        "\n",
        "  return hours_transducer"
      ],
      "metadata": {
        "id": "QaHT9qdshEbk"
      },
      "execution_count": 110,
      "outputs": []
    },
    {
      "cell_type": "code",
      "source": [
        "transducer = create_hours_transducer()"
      ],
      "metadata": {
        "id": "0GIuJGIQhs9q"
      },
      "execution_count": 111,
      "outputs": []
    },
    {
      "cell_type": "code",
      "source": [
        "from typing import Union\n",
        "\n",
        "def transduce_numeral(numeral: str, transducer: Fst) -> Union[str, None]:\n",
        "  try:\n",
        "    result: str = rewrite.one_top_rewrite(numeral, transducer)\n",
        "    return result\n",
        "  except rewrite.Error:\n",
        "    return \"Invalid numeral\""
      ],
      "metadata": {
        "id": "sv1FWLGWo_2E"
      },
      "execution_count": 112,
      "outputs": []
    },
    {
      "cell_type": "code",
      "source": [
        "print(transduce_numeral(\"Pierwsza\", transducer))"
      ],
      "metadata": {
        "colab": {
          "base_uri": "https://localhost:8080/"
        },
        "id": "V__Hr71qpIhz",
        "outputId": "2a90c1d2-624b-4605-d0f9-e403a27b6e76"
      },
      "execution_count": 114,
      "outputs": [
        {
          "output_type": "stream",
          "name": "stdout",
          "text": [
            "01\n"
          ]
        }
      ]
    }
  ]
}